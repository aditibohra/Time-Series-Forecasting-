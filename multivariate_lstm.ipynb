{
 "cells": [
  {
   "cell_type": "code",
   "execution_count": 37,
   "metadata": {
    "collapsed": true
   },
   "outputs": [],
   "source": [
    "# Comments : RNN + LSTM \n",
    "# Basic structure of data \n",
    "# objective : TS \n",
    "#Approach : subtracted the in_flow and out flow to get the number of count of the people and then predicted."
   ]
  },
  {
   "cell_type": "code",
   "execution_count": 403,
   "metadata": {},
   "outputs": [
    {
     "data": {
      "text/html": [
       "<div>\n",
       "<style>\n",
       "    .dataframe thead tr:only-child th {\n",
       "        text-align: right;\n",
       "    }\n",
       "\n",
       "    .dataframe thead th {\n",
       "        text-align: left;\n",
       "    }\n",
       "\n",
       "    .dataframe tbody tr th {\n",
       "        vertical-align: top;\n",
       "    }\n",
       "</style>\n",
       "<table border=\"1\" class=\"dataframe\">\n",
       "  <thead>\n",
       "    <tr style=\"text-align: right;\">\n",
       "      <th></th>\n",
       "      <th>flowid</th>\n",
       "      <th>date</th>\n",
       "      <th>time</th>\n",
       "      <th>count</th>\n",
       "      <th>event_flag</th>\n",
       "    </tr>\n",
       "  </thead>\n",
       "  <tbody>\n",
       "    <tr>\n",
       "      <th>0</th>\n",
       "      <td>7.0</td>\n",
       "      <td>7/24/2005</td>\n",
       "      <td>0:00:00</td>\n",
       "      <td>0.0</td>\n",
       "      <td>0</td>\n",
       "    </tr>\n",
       "    <tr>\n",
       "      <th>1</th>\n",
       "      <td>9.0</td>\n",
       "      <td>7/24/2005</td>\n",
       "      <td>0:00:00</td>\n",
       "      <td>0.0</td>\n",
       "      <td>0</td>\n",
       "    </tr>\n",
       "    <tr>\n",
       "      <th>2</th>\n",
       "      <td>7.0</td>\n",
       "      <td>7/24/2005</td>\n",
       "      <td>0:30:00</td>\n",
       "      <td>1.0</td>\n",
       "      <td>0</td>\n",
       "    </tr>\n",
       "    <tr>\n",
       "      <th>3</th>\n",
       "      <td>9.0</td>\n",
       "      <td>7/24/2005</td>\n",
       "      <td>0:30:00</td>\n",
       "      <td>0.0</td>\n",
       "      <td>0</td>\n",
       "    </tr>\n",
       "    <tr>\n",
       "      <th>4</th>\n",
       "      <td>7.0</td>\n",
       "      <td>7/24/2005</td>\n",
       "      <td>1:00:00</td>\n",
       "      <td>0.0</td>\n",
       "      <td>0</td>\n",
       "    </tr>\n",
       "  </tbody>\n",
       "</table>\n",
       "</div>"
      ],
      "text/plain": [
       "   flowid       date     time  count  event_flag\n",
       "0     7.0  7/24/2005  0:00:00    0.0           0\n",
       "1     9.0  7/24/2005  0:00:00    0.0           0\n",
       "2     7.0  7/24/2005  0:30:00    1.0           0\n",
       "3     9.0  7/24/2005  0:30:00    0.0           0\n",
       "4     7.0  7/24/2005  1:00:00    0.0           0"
      ]
     },
     "execution_count": 403,
     "metadata": {},
     "output_type": "execute_result"
    }
   ],
   "source": [
    "#importing libraries and read the csv file\n",
    "import pandas as pd\n",
    "import matplotlib.pyplot as plt\n",
    "dataset = pd.read_csv('data.csv',usecols=[0,1,2,3,4])\n",
    "dataset.head()"
   ]
  },
  {
   "cell_type": "code",
   "execution_count": 404,
   "metadata": {},
   "outputs": [],
   "source": [
    "#merge the data and time columns \n",
    "date_time = pd.to_datetime(dataset['date'] + ' ' + dataset['time'])"
   ]
  },
  {
   "cell_type": "code",
   "execution_count": 405,
   "metadata": {
    "collapsed": true
   },
   "outputs": [],
   "source": [
    "#drop the date_time col from the existing data frame \n",
    "new=dataset.drop(['date','time'],axis=1)"
   ]
  },
  {
   "cell_type": "code",
   "execution_count": 406,
   "metadata": {},
   "outputs": [
    {
     "data": {
      "text/html": [
       "<div>\n",
       "<style>\n",
       "    .dataframe thead tr:only-child th {\n",
       "        text-align: right;\n",
       "    }\n",
       "\n",
       "    .dataframe thead th {\n",
       "        text-align: left;\n",
       "    }\n",
       "\n",
       "    .dataframe tbody tr th {\n",
       "        vertical-align: top;\n",
       "    }\n",
       "</style>\n",
       "<table border=\"1\" class=\"dataframe\">\n",
       "  <thead>\n",
       "    <tr style=\"text-align: right;\">\n",
       "      <th></th>\n",
       "      <th>datetime</th>\n",
       "      <th>flowid</th>\n",
       "      <th>count</th>\n",
       "      <th>event</th>\n",
       "    </tr>\n",
       "  </thead>\n",
       "  <tbody>\n",
       "    <tr>\n",
       "      <th>0</th>\n",
       "      <td>2005-07-24 00:00:00</td>\n",
       "      <td>7.0</td>\n",
       "      <td>0.0</td>\n",
       "      <td>0</td>\n",
       "    </tr>\n",
       "    <tr>\n",
       "      <th>1</th>\n",
       "      <td>2005-07-24 00:00:00</td>\n",
       "      <td>9.0</td>\n",
       "      <td>0.0</td>\n",
       "      <td>0</td>\n",
       "    </tr>\n",
       "    <tr>\n",
       "      <th>2</th>\n",
       "      <td>2005-07-24 00:30:00</td>\n",
       "      <td>7.0</td>\n",
       "      <td>1.0</td>\n",
       "      <td>0</td>\n",
       "    </tr>\n",
       "    <tr>\n",
       "      <th>3</th>\n",
       "      <td>2005-07-24 00:30:00</td>\n",
       "      <td>9.0</td>\n",
       "      <td>0.0</td>\n",
       "      <td>0</td>\n",
       "    </tr>\n",
       "    <tr>\n",
       "      <th>4</th>\n",
       "      <td>2005-07-24 01:00:00</td>\n",
       "      <td>7.0</td>\n",
       "      <td>0.0</td>\n",
       "      <td>0</td>\n",
       "    </tr>\n",
       "  </tbody>\n",
       "</table>\n",
       "</div>"
      ],
      "text/plain": [
       "             datetime  flowid  count  event\n",
       "0 2005-07-24 00:00:00     7.0    0.0      0\n",
       "1 2005-07-24 00:00:00     9.0    0.0      0\n",
       "2 2005-07-24 00:30:00     7.0    1.0      0\n",
       "3 2005-07-24 00:30:00     9.0    0.0      0\n",
       "4 2005-07-24 01:00:00     7.0    0.0      0"
      ]
     },
     "execution_count": 406,
     "metadata": {},
     "output_type": "execute_result"
    }
   ],
   "source": [
    "# concat both the data frame (date_time and new_train)\n",
    "cali_data=pd.concat([date_time,new],axis=1)\n",
    "cali_data.columns = ['datetime','flowid', 'count','event']\n",
    "cali_data.head()"
   ]
  },
  {
   "cell_type": "code",
   "execution_count": 407,
   "metadata": {
    "collapsed": true
   },
   "outputs": [],
   "source": [
    "## separate inflow and outflow dataframe based on the flowid count\n",
    "out_flow = cali_data.loc[cali_data['flowid'] == 7]\n",
    "\n",
    "in_flow = cali_data.loc[cali_data['flowid'] == 9]"
   ]
  },
  {
   "cell_type": "code",
   "execution_count": 408,
   "metadata": {},
   "outputs": [
    {
     "data": {
      "text/html": [
       "<div>\n",
       "<style>\n",
       "    .dataframe thead tr:only-child th {\n",
       "        text-align: right;\n",
       "    }\n",
       "\n",
       "    .dataframe thead th {\n",
       "        text-align: left;\n",
       "    }\n",
       "\n",
       "    .dataframe tbody tr th {\n",
       "        vertical-align: top;\n",
       "    }\n",
       "</style>\n",
       "<table border=\"1\" class=\"dataframe\">\n",
       "  <thead>\n",
       "    <tr style=\"text-align: right;\">\n",
       "      <th></th>\n",
       "      <th>datetime</th>\n",
       "      <th>flowid</th>\n",
       "      <th>count</th>\n",
       "      <th>event</th>\n",
       "    </tr>\n",
       "  </thead>\n",
       "  <tbody>\n",
       "    <tr>\n",
       "      <th>0</th>\n",
       "      <td>2005-07-24 00:00:00</td>\n",
       "      <td>7.0</td>\n",
       "      <td>0.0</td>\n",
       "      <td>0</td>\n",
       "    </tr>\n",
       "    <tr>\n",
       "      <th>2</th>\n",
       "      <td>2005-07-24 00:30:00</td>\n",
       "      <td>7.0</td>\n",
       "      <td>1.0</td>\n",
       "      <td>0</td>\n",
       "    </tr>\n",
       "    <tr>\n",
       "      <th>4</th>\n",
       "      <td>2005-07-24 01:00:00</td>\n",
       "      <td>7.0</td>\n",
       "      <td>0.0</td>\n",
       "      <td>0</td>\n",
       "    </tr>\n",
       "    <tr>\n",
       "      <th>6</th>\n",
       "      <td>2005-07-24 01:30:00</td>\n",
       "      <td>7.0</td>\n",
       "      <td>0.0</td>\n",
       "      <td>0</td>\n",
       "    </tr>\n",
       "    <tr>\n",
       "      <th>8</th>\n",
       "      <td>2005-07-24 02:00:00</td>\n",
       "      <td>7.0</td>\n",
       "      <td>0.0</td>\n",
       "      <td>0</td>\n",
       "    </tr>\n",
       "  </tbody>\n",
       "</table>\n",
       "</div>"
      ],
      "text/plain": [
       "             datetime  flowid  count  event\n",
       "0 2005-07-24 00:00:00     7.0    0.0      0\n",
       "2 2005-07-24 00:30:00     7.0    1.0      0\n",
       "4 2005-07-24 01:00:00     7.0    0.0      0\n",
       "6 2005-07-24 01:30:00     7.0    0.0      0\n",
       "8 2005-07-24 02:00:00     7.0    0.0      0"
      ]
     },
     "execution_count": 408,
     "metadata": {},
     "output_type": "execute_result"
    }
   ],
   "source": [
    "out_flow.head()"
   ]
  },
  {
   "cell_type": "code",
   "execution_count": 409,
   "metadata": {
    "collapsed": true
   },
   "outputs": [],
   "source": [
    "out_flow.set_index('datetime', inplace=True)\n",
    "in_flow.set_index('datetime', inplace=True)\n"
   ]
  },
  {
   "cell_type": "code",
   "execution_count": 410,
   "metadata": {},
   "outputs": [
    {
     "name": "stderr",
     "output_type": "stream",
     "text": [
      "C:\\Users\\DELL\\Anaconda3\\anaconda\\lib\\site-packages\\ipykernel_launcher.py:2: SettingWithCopyWarning: \n",
      "A value is trying to be set on a copy of a slice from a DataFrame\n",
      "\n",
      "See the caveats in the documentation: http://pandas.pydata.org/pandas-docs/stable/indexing.html#indexing-view-versus-copy\n",
      "  \n",
      "C:\\Users\\DELL\\Anaconda3\\anaconda\\lib\\site-packages\\ipykernel_launcher.py:3: SettingWithCopyWarning: \n",
      "A value is trying to be set on a copy of a slice from a DataFrame\n",
      "\n",
      "See the caveats in the documentation: http://pandas.pydata.org/pandas-docs/stable/indexing.html#indexing-view-versus-copy\n",
      "  This is separate from the ipykernel package so we can avoid doing imports until\n"
     ]
    }
   ],
   "source": [
    "# add the colums and drop the existing columns \n",
    "out_flow.drop('flowid', axis=1, inplace=True)\n",
    "in_flow.drop('flowid', axis=1, inplace=True)"
   ]
  },
  {
   "cell_type": "code",
   "execution_count": 411,
   "metadata": {
    "collapsed": true
   },
   "outputs": [],
   "source": [
    "#subract inflow and outflow to find the people count \n",
    "new_data=out_flow.subtract(in_flow)"
   ]
  },
  {
   "cell_type": "code",
   "execution_count": 412,
   "metadata": {},
   "outputs": [
    {
     "data": {
      "text/html": [
       "<div>\n",
       "<style>\n",
       "    .dataframe thead tr:only-child th {\n",
       "        text-align: right;\n",
       "    }\n",
       "\n",
       "    .dataframe thead th {\n",
       "        text-align: left;\n",
       "    }\n",
       "\n",
       "    .dataframe tbody tr th {\n",
       "        vertical-align: top;\n",
       "    }\n",
       "</style>\n",
       "<table border=\"1\" class=\"dataframe\">\n",
       "  <thead>\n",
       "    <tr style=\"text-align: right;\">\n",
       "      <th></th>\n",
       "      <th>count</th>\n",
       "      <th>event</th>\n",
       "    </tr>\n",
       "    <tr>\n",
       "      <th>datetime</th>\n",
       "      <th></th>\n",
       "      <th></th>\n",
       "    </tr>\n",
       "  </thead>\n",
       "  <tbody>\n",
       "    <tr>\n",
       "      <th>2005-07-24 00:00:00</th>\n",
       "      <td>0.0</td>\n",
       "      <td>0</td>\n",
       "    </tr>\n",
       "    <tr>\n",
       "      <th>2005-07-24 00:30:00</th>\n",
       "      <td>1.0</td>\n",
       "      <td>0</td>\n",
       "    </tr>\n",
       "    <tr>\n",
       "      <th>2005-07-24 01:00:00</th>\n",
       "      <td>0.0</td>\n",
       "      <td>0</td>\n",
       "    </tr>\n",
       "    <tr>\n",
       "      <th>2005-07-24 01:30:00</th>\n",
       "      <td>0.0</td>\n",
       "      <td>0</td>\n",
       "    </tr>\n",
       "    <tr>\n",
       "      <th>2005-07-24 02:00:00</th>\n",
       "      <td>0.0</td>\n",
       "      <td>0</td>\n",
       "    </tr>\n",
       "  </tbody>\n",
       "</table>\n",
       "</div>"
      ],
      "text/plain": [
       "                     count  event\n",
       "datetime                         \n",
       "2005-07-24 00:00:00    0.0      0\n",
       "2005-07-24 00:30:00    1.0      0\n",
       "2005-07-24 01:00:00    0.0      0\n",
       "2005-07-24 01:30:00    0.0      0\n",
       "2005-07-24 02:00:00    0.0      0"
      ]
     },
     "execution_count": 412,
     "metadata": {},
     "output_type": "execute_result"
    }
   ],
   "source": [
    "#check the dataframe\n",
    "new_data.head()"
   ]
  },
  {
   "cell_type": "code",
   "execution_count": 413,
   "metadata": {
    "collapsed": true
   },
   "outputs": [],
   "source": [
    "#new_data.to_csv('new_data.csv')"
   ]
  },
  {
   "cell_type": "code",
   "execution_count": 414,
   "metadata": {},
   "outputs": [],
   "source": [
    "# import all the libraries to be used \n",
    "import numpy as np\n",
    "import matplotlib.pyplot as plt\n",
    "import pandas as pd\n",
    "import math\n",
    "from keras.models import Sequential\n",
    "from keras.layers import Dense\n",
    "from keras.layers import LSTM\n",
    "\n",
    "from sklearn.preprocessing import MinMaxScaler\n",
    "from sklearn.metrics import mean_squared_error"
   ]
  },
  {
   "cell_type": "code",
   "execution_count": 415,
   "metadata": {},
   "outputs": [
    {
     "data": {
      "text/plain": [
       "(5040, 2)"
      ]
     },
     "execution_count": 415,
     "metadata": {},
     "output_type": "execute_result"
    }
   ],
   "source": [
    "#check the shape of the dataset\n",
    "new_data.shape"
   ]
  },
  {
   "cell_type": "code",
   "execution_count": 416,
   "metadata": {},
   "outputs": [
    {
     "data": {
      "image/png": "[encoded data removed]",
      "text/plain": [
       "<matplotlib.figure.Figure at 0x20cd17d9278>"
      ]
     },
     "execution_count": 416,
     "metadata": {},
     "output_type": "execute_result"
    }
   ],
   "source": [
    "#plot pacf graph using stats model\n",
    "from statsmodels.graphics.tsaplots import plot_pacf\n",
    "plot_pacf(new_data['count'], lags=50)\n",
    "\n",
    "#plt.show()"
   ]
  },
  {
   "cell_type": "code",
   "execution_count": 417,
   "metadata": {},
   "outputs": [
    {
     "data": {
      "image/png": "[encoded data removed]",
      "text/plain": [
       "<matplotlib.figure.Figure at 0x20cd17d9908>"
      ]
     },
     "execution_count": 417,
     "metadata": {},
     "output_type": "execute_result"
    }
   ],
   "source": [
    "# plot acf model\n",
    "from statsmodels.graphics.tsaplots import plot_acf\n",
    "plot_acf(new_data['count'],lags= 50)\n",
    "#plt.show()"
   ]
  },
  {
   "cell_type": "code",
   "execution_count": 418,
   "metadata": {
    "collapsed": true
   },
   "outputs": [],
   "source": [
    "#store the editted df to new dataframe\n",
    "final_data=new_data"
   ]
  },
  {
   "cell_type": "code",
   "execution_count": 419,
   "metadata": {},
   "outputs": [
    {
     "name": "stdout",
     "output_type": "stream",
     "text": [
      "train test\n"
     ]
    },
    {
     "data": {
      "text/plain": [
       "(1664, 2)"
      ]
     },
     "execution_count": 419,
     "metadata": {},
     "output_type": "execute_result"
    }
   ],
   "source": [
    "# fix random seed for reproducibility\n",
    "np.random.seed(7)\n",
    "new_data = new_data.values\n",
    "# split into train and test sets\n",
    "train_size = int(len(new_data) * 0.67)\n",
    "test_size = len(new_data) - train_size\n",
    "train, test = new_data[0:train_size,:], new_data[train_size:len(new_data),:]\n",
    "print(\"train\", \"test\")\n",
    "train.shape\n",
    "test.shape"
   ]
  },
  {
   "cell_type": "code",
   "execution_count": 420,
   "metadata": {},
   "outputs": [
    {
     "name": "stdout",
     "output_type": "stream",
     "text": [
      "[[ 0.  0.]\n",
      " [ 1.  0.]\n",
      " [ 0.  0.]\n",
      " ..., \n",
      " [ 0.  0.]\n",
      " [ 0.  0.]\n",
      " [ 0.  0.]]\n"
     ]
    }
   ],
   "source": [
    "print(train)"
   ]
  },
  {
   "cell_type": "code",
   "execution_count": 421,
   "metadata": {},
   "outputs": [],
   "source": [
    "# convert an array of values into a dataset matrix \n",
    "def create_dataset(new_data, look_back=1):\n",
    "    dataX, dataY = [], []\n",
    "    for i in range(len(new_data)-look_back-1):\n",
    "        a = new_data[i:(i+look_back), 0:2]\n",
    "        dataX.append(a)\n",
    "        dataY.append(new_data[i+look_back, 0])\n",
    "    return numpy.array(dataX), numpy.array(dataY)"
   ]
  },
  {
   "cell_type": "code",
   "execution_count": 440,
   "metadata": {},
   "outputs": [
    {
     "name": "stdout",
     "output_type": "stream",
     "text": [
      "train:  (3372, 3, 2)\n",
      "test:  (1660, 3, 2)\n"
     ]
    }
   ],
   "source": [
    "# reshape into X=t and Y=t+1\n",
    "look_back = 3\n",
    "trainX, trainY = create_dataset(train, look_back)\n",
    "testX, testY = create_dataset(test, look_back)\n",
    "\n",
    "# reshape input to be [samples, look_back, features]\n",
    "print(\"train: \", trainX.shape)\n",
    "print(\"test: \", testX.shape)"
   ]
  },
  {
   "cell_type": "code",
   "execution_count": 469,
   "metadata": {},
   "outputs": [
    {
     "data": {
      "text/plain": [
       "array([[ 0.,  0.],\n",
       "       [ 3.,  0.],\n",
       "       [ 0.,  0.]])"
      ]
     },
     "execution_count": 469,
     "metadata": {},
     "output_type": "execute_result"
    }
   ],
   "source": [
    "testY.shape\n",
    "testX[1659,]"
   ]
  },
  {
   "cell_type": "code",
   "execution_count": 441,
   "metadata": {},
   "outputs": [
    {
     "data": {
      "text/plain": [
       "array([[ 0.,  0.],\n",
       "       [ 1.,  0.],\n",
       "       [ 0.,  0.],\n",
       "       ..., \n",
       "       [ 0.,  0.],\n",
       "       [ 0.,  0.],\n",
       "       [ 0.,  0.]])"
      ]
     },
     "execution_count": 441,
     "metadata": {},
     "output_type": "execute_result"
    }
   ],
   "source": [
    "#check the data\n",
    "train"
   ]
  },
  {
   "cell_type": "code",
   "execution_count": 442,
   "metadata": {},
   "outputs": [
    {
     "name": "stdout",
     "output_type": "stream",
     "text": [
      "_________________________________________________________________\n",
      "Layer (type)                 Output Shape              Param #   \n",
      "=================================================================\n",
      "simple_rnn_11 (SimpleRNN)    (None, 50)                2650      \n",
      "_________________________________________________________________\n",
      "dense_17 (Dense)             (None, 1)                 51        \n",
      "=================================================================\n",
      "Total params: 2,701\n",
      "Trainable params: 2,701\n",
      "Non-trainable params: 0\n",
      "_________________________________________________________________\n"
     ]
    },
    {
     "name": "stderr",
     "output_type": "stream",
     "text": [
      "C:\\Users\\DELL\\Anaconda3\\anaconda\\lib\\site-packages\\keras\\models.py:848: UserWarning: The `nb_epoch` argument in `fit` has been renamed `epochs`.\n",
      "  warnings.warn('The `nb_epoch` argument in `fit` '\n"
     ]
    },
    {
     "name": "stdout",
     "output_type": "stream",
     "text": [
      "Epoch 1/20\n",
      "3372/3372 [==============================] - 3s - loss: 18.7889     \n",
      "Epoch 2/20\n",
      "3372/3372 [==============================] - 0s - loss: 18.3104     \n",
      "Epoch 3/20\n",
      "3372/3372 [==============================] - 0s - loss: 18.2066     \n",
      "Epoch 4/20\n",
      "3372/3372 [==============================] - 0s - loss: 18.0195     \n",
      "Epoch 5/20\n",
      "3372/3372 [==============================] - 0s - loss: 18.0276     \n",
      "Epoch 6/20\n",
      "3372/3372 [==============================] - 0s - loss: 17.9525     \n",
      "Epoch 7/20\n",
      "3372/3372 [==============================] - 0s - loss: 17.9066     \n",
      "Epoch 8/20\n",
      "3372/3372 [==============================] - 0s - loss: 17.8214     \n",
      "Epoch 9/20\n",
      "3372/3372 [==============================] - 0s - loss: 17.7602     \n",
      "Epoch 10/20\n",
      "3372/3372 [==============================] - 0s - loss: 17.7463     \n",
      "Epoch 11/20\n",
      "3372/3372 [==============================] - 0s - loss: 17.6992     \n",
      "Epoch 12/20\n",
      "3372/3372 [==============================] - 0s - loss: 17.6385     \n",
      "Epoch 13/20\n",
      "3372/3372 [==============================] - 0s - loss: 17.5589     \n",
      "Epoch 14/20\n",
      "3372/3372 [==============================] - 0s - loss: 17.5775     \n",
      "Epoch 15/20\n",
      "3372/3372 [==============================] - 0s - loss: 17.4898     \n",
      "Epoch 16/20\n",
      "3372/3372 [==============================] - 0s - loss: 17.4604     \n",
      "Epoch 17/20\n",
      "3372/3372 [==============================] - 0s - loss: 17.4672     \n",
      "Epoch 18/20\n",
      "3372/3372 [==============================] - 0s - loss: 17.4359     \n",
      "Epoch 19/20\n",
      "3372/3372 [==============================] - 0s - loss: 17.4280     \n",
      "Epoch 20/20\n",
      "3372/3372 [==============================] - 0s - loss: 17.3569     \n"
     ]
    },
    {
     "data": {
      "text/plain": [
       "<keras.callbacks.History at 0x20cd1d615c0>"
      ]
     },
     "execution_count": 442,
     "metadata": {},
     "output_type": "execute_result"
    }
   ],
   "source": [
    "# simple rnn model \n",
    "from keras.layers import SimpleRNN\n",
    "model=Sequential()\n",
    "model.add(SimpleRNN(50,input_shape=(3,2))) \n",
    "#mode\n",
    "model.add(Dense(1))\n",
    "model.summary()\n",
    "\n",
    "#compile \n",
    "model.compile(loss='mse', optimizer='adam')\n",
    "\n",
    "#fit the model on train data \n",
    "model.fit(np.array(trainX),np.array(trainY),nb_epoch=20)\n",
    "          \n"
   ]
  },
  {
   "cell_type": "code",
   "execution_count": 443,
   "metadata": {},
   "outputs": [
    {
     "name": "stdout",
     "output_type": "stream",
     "text": [
      "[[ 0.04403269]\n",
      " [ 0.04403269]\n",
      " [ 0.04403269]\n",
      " ..., \n",
      " [ 0.66370761]\n",
      " [ 0.4640941 ]\n",
      " [-0.14573631]]\n"
     ]
    }
   ],
   "source": [
    "#predict on the validation data set\n",
    "predic=model.predict(np.array(testX))\n",
    "print(predic)"
   ]
  },
  {
   "cell_type": "code",
   "execution_count": 444,
   "metadata": {},
   "outputs": [
    {
     "name": "stdout",
     "output_type": "stream",
     "text": [
      " 992/1660 [================>.............] - ETA: 0s "
     ]
    },
    {
     "data": {
      "text/plain": [
       "25.023790340825737"
      ]
     },
     "execution_count": 444,
     "metadata": {},
     "output_type": "execute_result"
    }
   ],
   "source": [
    "#evaluate the model on validaion to check the scores \n",
    "model.evaluate(testX,np.array(testY))"
   ]
  },
  {
   "cell_type": "markdown",
   "metadata": {},
   "source": [
    "# LSTM (Long Short Term Memory) Model"
   ]
  },
  {
   "cell_type": "code",
   "execution_count": 179,
   "metadata": {},
   "outputs": [
    {
     "name": "stdout",
     "output_type": "stream",
     "text": [
      "_________________________________________________________________\n",
      "Layer (type)                 Output Shape              Param #   \n",
      "=================================================================\n",
      "lstm_2 (LSTM)                (None, 150)               91800     \n",
      "_________________________________________________________________\n",
      "dense_10 (Dense)             (None, 1)                 151       \n",
      "=================================================================\n",
      "Total params: 91,951\n",
      "Trainable params: 91,951\n",
      "Non-trainable params: 0\n",
      "_________________________________________________________________\n"
     ]
    },
    {
     "name": "stderr",
     "output_type": "stream",
     "text": [
      "C:\\Users\\DELL\\Anaconda3\\anaconda\\lib\\site-packages\\keras\\models.py:848: UserWarning: The `nb_epoch` argument in `fit` has been renamed `epochs`.\n",
      "  warnings.warn('The `nb_epoch` argument in `fit` '\n"
     ]
    },
    {
     "name": "stdout",
     "output_type": "stream",
     "text": [
      "Epoch 1/50\n",
      "3373/3373 [==============================] - 5s - loss: 19.1119     \n",
      "Epoch 2/50\n",
      "3373/3373 [==============================] - 1s - loss: 18.3744     \n",
      "Epoch 3/50\n",
      "3373/3373 [==============================] - 0s - loss: 18.1719     \n",
      "Epoch 4/50\n",
      "3373/3373 [==============================] - 0s - loss: 18.1177     \n",
      "Epoch 5/50\n",
      "3373/3373 [==============================] - 0s - loss: 18.0616     \n",
      "Epoch 6/50\n",
      "3373/3373 [==============================] - 0s - loss: 18.0713     \n",
      "Epoch 7/50\n",
      "3373/3373 [==============================] - 0s - loss: 18.0067     \n",
      "Epoch 8/50\n",
      "3373/3373 [==============================] - 0s - loss: 18.0137     \n",
      "Epoch 9/50\n",
      "3373/3373 [==============================] - 0s - loss: 18.0250     \n",
      "Epoch 10/50\n",
      "3373/3373 [==============================] - 0s - loss: 17.9313     \n",
      "Epoch 11/50\n",
      "3373/3373 [==============================] - 0s - loss: 17.9224     \n",
      "Epoch 12/50\n",
      "3373/3373 [==============================] - 1s - loss: 17.9441     \n",
      "Epoch 13/50\n",
      "3373/3373 [==============================] - 0s - loss: 17.9547     \n",
      "Epoch 14/50\n",
      "3373/3373 [==============================] - 0s - loss: 17.8851     \n",
      "Epoch 15/50\n",
      "3373/3373 [==============================] - 1s - loss: 17.9270     \n",
      "Epoch 16/50\n",
      "3373/3373 [==============================] - 0s - loss: 17.8623     \n",
      "Epoch 17/50\n",
      "3373/3373 [==============================] - 0s - loss: 17.8548     \n",
      "Epoch 18/50\n",
      "3373/3373 [==============================] - 0s - loss: 17.8695     \n",
      "Epoch 19/50\n",
      "3373/3373 [==============================] - 0s - loss: 17.8433     \n",
      "Epoch 20/50\n",
      "3373/3373 [==============================] - 1s - loss: 17.8378     \n",
      "Epoch 21/50\n",
      "3373/3373 [==============================] - 0s - loss: 17.8198     \n",
      "Epoch 22/50\n",
      "3373/3373 [==============================] - 0s - loss: 17.8299     \n",
      "Epoch 23/50\n",
      "3373/3373 [==============================] - 0s - loss: 17.7689     \n",
      "Epoch 24/50\n",
      "3373/3373 [==============================] - 0s - loss: 17.7777     \n",
      "Epoch 25/50\n",
      "3373/3373 [==============================] - 1s - loss: 17.7454     \n",
      "Epoch 26/50\n",
      "3373/3373 [==============================] - 0s - loss: 17.7814     \n",
      "Epoch 27/50\n",
      "3373/3373 [==============================] - 0s - loss: 17.7128     \n",
      "Epoch 28/50\n",
      "3373/3373 [==============================] - 0s - loss: 17.7529     \n",
      "Epoch 29/50\n",
      "3373/3373 [==============================] - 0s - loss: 17.7123     \n",
      "Epoch 30/50\n",
      "3373/3373 [==============================] - 0s - loss: 17.7172     \n",
      "Epoch 31/50\n",
      "3373/3373 [==============================] - 0s - loss: 17.6350     \n",
      "Epoch 32/50\n",
      "3373/3373 [==============================] - 0s - loss: 17.6578     \n",
      "Epoch 33/50\n",
      "3373/3373 [==============================] - 0s - loss: 17.6148     \n",
      "Epoch 34/50\n",
      "3373/3373 [==============================] - 0s - loss: 17.6132     \n",
      "Epoch 35/50\n",
      "3373/3373 [==============================] - 0s - loss: 17.6045     \n",
      "Epoch 36/50\n",
      "3373/3373 [==============================] - 1s - loss: 17.5669     \n",
      "Epoch 37/50\n",
      "3373/3373 [==============================] - 0s - loss: 17.6159     \n",
      "Epoch 38/50\n",
      "3373/3373 [==============================] - 0s - loss: 17.5696     \n",
      "Epoch 39/50\n",
      "3373/3373 [==============================] - 0s - loss: 17.5938     \n",
      "Epoch 40/50\n",
      "3373/3373 [==============================] - 1s - loss: 17.5455     \n",
      "Epoch 41/50\n",
      "3373/3373 [==============================] - 0s - loss: 17.5552     \n",
      "Epoch 42/50\n",
      "3373/3373 [==============================] - 0s - loss: 17.5171     \n",
      "Epoch 43/50\n",
      "3373/3373 [==============================] - 0s - loss: 17.5766     \n",
      "Epoch 44/50\n",
      "3373/3373 [==============================] - 0s - loss: 17.5565     \n",
      "Epoch 45/50\n",
      "3373/3373 [==============================] - 0s - loss: 17.5627     \n",
      "Epoch 46/50\n",
      "3373/3373 [==============================] - 0s - loss: 17.4966     \n",
      "Epoch 47/50\n",
      "3373/3373 [==============================] - 0s - loss: 17.4943     \n",
      "Epoch 48/50\n",
      "3373/3373 [==============================] - 0s - loss: 17.4669     \n",
      "Epoch 49/50\n",
      "3373/3373 [==============================] - 0s - loss: 17.4990     \n",
      "Epoch 50/50\n",
      "3373/3373 [==============================] - 0s - loss: 17.4877     \n"
     ]
    },
    {
     "data": {
      "text/plain": [
       "<keras.callbacks.History at 0x20cc20717f0>"
      ]
     },
     "execution_count": 179,
     "metadata": {},
     "output_type": "execute_result"
    }
   ],
   "source": [
    "#lstm model\n",
    "model_lstm=Sequential()\n",
    "model_lstm.add(LSTM(150,input_shape=(3,2))) \n",
    "#model.add(Dropout=(0.5))\n",
    "model_lstm.add(Dense(1))\n",
    "model_lstm.summary()\n",
    "\n",
    "#compile\n",
    "model_lstm.compile(loss='mse', optimizer='adam')\n",
    "\n",
    "# fit the model on train data \n",
    "model_lstm.fit(np.array(trainX),np.array(trainY),nb_epoch=50)"
   ]
  },
  {
   "cell_type": "code",
   "execution_count": 445,
   "metadata": {},
   "outputs": [
    {
     "data": {
      "text/plain": [
       "array([[ 0.04403269],\n",
       "       [ 0.04403269],\n",
       "       [ 0.04403269],\n",
       "       ..., \n",
       "       [ 0.66370761],\n",
       "       [ 0.4640941 ],\n",
       "       [-0.14573631]], dtype=float32)"
      ]
     },
     "execution_count": 445,
     "metadata": {},
     "output_type": "execute_result"
    }
   ],
   "source": [
    "#predict ton test data\n",
    "model.predict(testX)"
   ]
  },
  {
   "cell_type": "code",
   "execution_count": 180,
   "metadata": {},
   "outputs": [
    {
     "name": "stdout",
     "output_type": "stream",
     "text": [
      "1536/1661 [==========================>...] - ETA: 0s"
     ]
    },
    {
     "data": {
      "text/plain": [
       "25.174105672646832"
      ]
     },
     "execution_count": 180,
     "metadata": {},
     "output_type": "execute_result"
    }
   ],
   "source": [
    "#evaluate the model\n",
    "model_lstm.evaluate(testX,testY)"
   ]
  },
  {
   "cell_type": "code",
   "execution_count": 433,
   "metadata": {
    "collapsed": true
   },
   "outputs": [],
   "source": [
    "from numpy import newaxis"
   ]
  },
  {
   "cell_type": "code",
   "execution_count": 508,
   "metadata": {},
   "outputs": [],
   "source": [
    "# fucntionn to predict n time stampes  for simmple rnn model\n",
    "def predict_sequences_multiple(model, firstValue,length):\n",
    "    prediction_seqs = []\n",
    "    curr_frame = firstValue\n",
    "    \n",
    "    for i in range(length): \n",
    "        predicted = []        \n",
    "        \n",
    "        print(model.predict(curr_frame[newaxis,:,:]))\n",
    "        predicted.append(model.predict(curr_frame[newaxis,:,:])[0,0])\n",
    "        \n",
    "        curr_frame = curr_frame[0:]\n",
    "        curr_frame = np.insert(curr_frame[1:], 2, [predicted[-1],0], axis=0)\n",
    "#         print(curr_frame)\n",
    "    \n",
    "        prediction_seqs.append(predicted[-1])\n",
    "        \n",
    "    return prediction_seqs"
   ]
  },
  {
   "cell_type": "code",
   "execution_count": 473,
   "metadata": {},
   "outputs": [
    {
     "name": "stdout",
     "output_type": "stream",
     "text": [
      "[[ 0.  0.]\n",
      " [ 3.  0.]\n",
      " [ 0.  0.]]\n"
     ]
    }
   ],
   "source": [
    "testX.shape[0]\n",
    "last_val = testX[testX.shape[0]-1,]\n",
    "# print(last_val)"
   ]
  },
  {
   "cell_type": "code",
   "execution_count": 509,
   "metadata": {},
   "outputs": [
    {
     "name": "stdout",
     "output_type": "stream",
     "text": [
      "[[-0.22716914]]\n",
      "[[ 1.06582248]]\n",
      "[[ 0.49427736]]\n",
      "[[ 0.2357195]]\n",
      "[[ 0.5919854]]\n",
      "[-0.22716914, 1.0658225, 0.49427736, 0.2357195, 0.5919854]\n"
     ]
    }
   ],
   "source": [
    "#using simple rnn model\n",
    "#call the function and find the number of next perdiction value \n",
    "predict_length=5\n",
    "predictions = predict_sequences_multiple(model, last_val, predict_length)\n",
    "print(predictions)\n"
   ]
  },
  {
   "cell_type": "code",
   "execution_count": 512,
   "metadata": {},
   "outputs": [],
   "source": [
    "# write the prediction to csv file using rnn model\n",
    "predictions=pd.DataFrame(predictions)\n",
    "predictions.to_csv('prediction_lstm.csv')"
   ]
  },
  {
   "cell_type": "code",
   "execution_count": 514,
   "metadata": {},
   "outputs": [
    {
     "name": "stdout",
     "output_type": "stream",
     "text": [
      "[[ 0.52287972]]\n",
      "[[ 1.02341139]]\n",
      "[[ 0.46402636]]\n",
      "[[ 0.4548398]]\n",
      "[[ 0.4511165]]\n",
      "[0.52287972, 1.0234114, 0.46402636, 0.4548398, 0.4511165]\n"
     ]
    }
   ],
   "source": [
    "#prediction based on the lstm model\n",
    "predict_length=5\n",
    "predictions_lstm = predict_sequences_multiple(model_lstm, last_val, predict_length)\n",
    "print(predictions_lstm)"
   ]
  },
  {
   "cell_type": "code",
   "execution_count": 516,
   "metadata": {},
   "outputs": [],
   "source": [
    "# write to csv file the predictions using lstm model\n",
    "predictions_lstm=pd.DataFrame(predictions_lstm)\n",
    "predictions_lstm.to_csv('prediction_lstm,csv')"
   ]
  },
  {
   "cell_type": "code",
   "execution_count": null,
   "metadata": {
    "collapsed": true
   },
   "outputs": [],
   "source": []
  }
 ],
 "metadata": {
  "kernelspec": {
   "display_name": "Python 3",
   "language": "python",
   "name": "python3"
  },
  "language_info": {
   "codemirror_mode": {
    "name": "ipython",
    "version": 3
   },
   "file_extension": ".py",
   "mimetype": "text/x-python",
   "name": "python",
   "nbconvert_exporter": "python",
   "pygments_lexer": "ipython3",
   "version": "3.6.1"
  }
 },
 "nbformat": 4,
 "nbformat_minor": 2
}
